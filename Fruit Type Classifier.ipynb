{
 "cells": [
  {
   "cell_type": "markdown",
   "id": "3724ed26",
   "metadata": {},
   "source": [
    "# Fruit Type Classifier\n",
    "\n",
    "This notebook performs data analysis and modeling on the provided dataset, focusing on Logistic Regression and Decision Tree models."
   ]
  },
  {
   "cell_type": "markdown",
   "id": "f5a9ae06",
   "metadata": {},
   "source": [
    "## Step 1: Importing libraries"
   ]
  },
  {
   "cell_type": "code",
   "execution_count": 1,
   "id": "9fa7974d",
   "metadata": {},
   "outputs": [],
   "source": [
    "#Importing required libraries\n",
    "\n",
    "import numpy as np\n",
    "import pandas as pd\n",
    "import matplotlib.pyplot as plt\n",
    "from matplotlib import pyplot as plt\n",
    "import seaborn as sns\n",
    "import sklearn\n",
    "from sklearn.model_selection import GridSearchCV\n",
    "from sklearn.tree import DecisionTreeClassifier\n",
    "from sklearn.model_selection import train_test_split\n",
    "from sklearn.preprocessing import OneHotEncoder"
   ]
  },
  {
   "cell_type": "markdown",
   "id": "b2de04e2",
   "metadata": {},
   "source": [
    "## Step 2: Data Understanding and Preparation   "
   ]
  },
  {
   "cell_type": "code",
   "execution_count": 2,
   "id": "4589bd46",
   "metadata": {},
   "outputs": [
    {
     "data": {
      "text/html": [
       "<div>\n",
       "<style scoped>\n",
       "    .dataframe tbody tr th:only-of-type {\n",
       "        vertical-align: middle;\n",
       "    }\n",
       "\n",
       "    .dataframe tbody tr th {\n",
       "        vertical-align: top;\n",
       "    }\n",
       "\n",
       "    .dataframe thead th {\n",
       "        text-align: right;\n",
       "    }\n",
       "</style>\n",
       "<table border=\"1\" class=\"dataframe\">\n",
       "  <thead>\n",
       "    <tr style=\"text-align: right;\">\n",
       "      <th></th>\n",
       "      <th>fruit_type</th>\n",
       "      <th>color</th>\n",
       "      <th>size</th>\n",
       "      <th>weight</th>\n",
       "    </tr>\n",
       "  </thead>\n",
       "  <tbody>\n",
       "    <tr>\n",
       "      <th>0</th>\n",
       "      <td>grape</td>\n",
       "      <td>Yellow</td>\n",
       "      <td>Tiny</td>\n",
       "      <td>8.303385</td>\n",
       "    </tr>\n",
       "    <tr>\n",
       "      <th>1</th>\n",
       "      <td>apple</td>\n",
       "      <td>Pink</td>\n",
       "      <td>Largee</td>\n",
       "      <td>80.976370</td>\n",
       "    </tr>\n",
       "    <tr>\n",
       "      <th>2</th>\n",
       "      <td>banana</td>\n",
       "      <td>Pale Yellow</td>\n",
       "      <td>Large</td>\n",
       "      <td>74.615192</td>\n",
       "    </tr>\n",
       "    <tr>\n",
       "      <th>3</th>\n",
       "      <td>grape</td>\n",
       "      <td>Red</td>\n",
       "      <td>Tiny</td>\n",
       "      <td>6.924070</td>\n",
       "    </tr>\n",
       "    <tr>\n",
       "      <th>4</th>\n",
       "      <td>banana</td>\n",
       "      <td>Creamy White</td>\n",
       "      <td>Largee</td>\n",
       "      <td>82.002542</td>\n",
       "    </tr>\n",
       "  </tbody>\n",
       "</table>\n",
       "</div>"
      ],
      "text/plain": [
       "  fruit_type         color    size     weight\n",
       "0      grape        Yellow    Tiny   8.303385\n",
       "1      apple          Pink  Largee  80.976370\n",
       "2     banana   Pale Yellow   Large  74.615192\n",
       "3      grape           Red    Tiny   6.924070\n",
       "4     banana  Creamy White  Largee  82.002542"
      ]
     },
     "execution_count": 2,
     "metadata": {},
     "output_type": "execute_result"
    }
   ],
   "source": [
    "#Read the data and renaming unnamed column to impove code readability and easier to work with DataFrame\n",
    "\n",
    "data=pd.read_excel('fruit_data.xlsx')\n",
    "data = data.rename(columns={'Unnamed: 0': 'id'})\n",
    "data.drop('id', axis=1, inplace=True)\n",
    "data.head()"
   ]
  },
  {
   "cell_type": "markdown",
   "id": "6866d3dc",
   "metadata": {},
   "source": [
    "## Handling Missing Values and Outliers"
   ]
  },
  {
   "cell_type": "code",
   "execution_count": 3,
   "id": "f0d55c19",
   "metadata": {},
   "outputs": [
    {
     "name": "stdout",
     "output_type": "stream",
     "text": [
      "fruit_type    0\n",
      "color         0\n",
      "size          0\n",
      "weight        0\n",
      "dtype: int64\n"
     ]
    }
   ],
   "source": [
    "# Check for missing values\n",
    "\n",
    "print(data.isnull().sum())\n",
    "data['size'] = data['size'].fillna('Unknown')"
   ]
  },
  {
   "cell_type": "code",
   "execution_count": 4,
   "id": "c02ca398",
   "metadata": {},
   "outputs": [
    {
     "data": {
      "text/html": [
       "<div>\n",
       "<style scoped>\n",
       "    .dataframe tbody tr th:only-of-type {\n",
       "        vertical-align: middle;\n",
       "    }\n",
       "\n",
       "    .dataframe tbody tr th {\n",
       "        vertical-align: top;\n",
       "    }\n",
       "\n",
       "    .dataframe thead th {\n",
       "        text-align: right;\n",
       "    }\n",
       "</style>\n",
       "<table border=\"1\" class=\"dataframe\">\n",
       "  <thead>\n",
       "    <tr style=\"text-align: right;\">\n",
       "      <th></th>\n",
       "      <th>fruit_type</th>\n",
       "      <th>color</th>\n",
       "      <th>size</th>\n",
       "      <th>weight</th>\n",
       "    </tr>\n",
       "  </thead>\n",
       "  <tbody>\n",
       "    <tr>\n",
       "      <th>0</th>\n",
       "      <td>grape</td>\n",
       "      <td>Yellow</td>\n",
       "      <td>Tiny</td>\n",
       "      <td>8</td>\n",
       "    </tr>\n",
       "    <tr>\n",
       "      <th>1</th>\n",
       "      <td>apple</td>\n",
       "      <td>Pink</td>\n",
       "      <td>Largee</td>\n",
       "      <td>80</td>\n",
       "    </tr>\n",
       "    <tr>\n",
       "      <th>2</th>\n",
       "      <td>banana</td>\n",
       "      <td>Pale Yellow</td>\n",
       "      <td>Large</td>\n",
       "      <td>74</td>\n",
       "    </tr>\n",
       "    <tr>\n",
       "      <th>3</th>\n",
       "      <td>grape</td>\n",
       "      <td>Red</td>\n",
       "      <td>Tiny</td>\n",
       "      <td>6</td>\n",
       "    </tr>\n",
       "    <tr>\n",
       "      <th>4</th>\n",
       "      <td>banana</td>\n",
       "      <td>Creamy White</td>\n",
       "      <td>Largee</td>\n",
       "      <td>82</td>\n",
       "    </tr>\n",
       "  </tbody>\n",
       "</table>\n",
       "</div>"
      ],
      "text/plain": [
       "  fruit_type         color    size  weight\n",
       "0      grape        Yellow    Tiny       8\n",
       "1      apple          Pink  Largee      80\n",
       "2     banana   Pale Yellow   Large      74\n",
       "3      grape           Red    Tiny       6\n",
       "4     banana  Creamy White  Largee      82"
      ]
     },
     "execution_count": 4,
     "metadata": {},
     "output_type": "execute_result"
    }
   ],
   "source": [
    "# Convert 'weight' to integers for simplicity\n",
    "\n",
    "data['weight'] = data['weight'].astype(int)\n",
    "data.head()"
   ]
  },
  {
   "cell_type": "code",
   "execution_count": 5,
   "id": "8384becf",
   "metadata": {},
   "outputs": [
    {
     "name": "stdout",
     "output_type": "stream",
     "text": [
      "Original data shape: (200, 4)\n",
      "Data shape after outlier removal: (198, 4)\n"
     ]
    }
   ],
   "source": [
    "#Checking for Outliers\n",
    "\n",
    "Q1 = data['weight'].quantile(0.25)\n",
    "Q3 = data['weight'].quantile(0.75)\n",
    "IQR = Q3 - Q1\n",
    "\n",
    "lower_bound = Q1 - 1.5 * IQR\n",
    "upper_bound = Q3 + 1.5 * IQR\n",
    "\n",
    "data_no_outliers = data[(data['weight'] >= lower_bound) & (data['weight'] <= upper_bound)]\n",
    "\n",
    "print(\"Original data shape:\", data.shape)\n",
    "print(\"Data shape after outlier removal:\", data_no_outliers.shape)"
   ]
  },
  {
   "cell_type": "code",
   "execution_count": 6,
   "id": "e9013afc",
   "metadata": {},
   "outputs": [],
   "source": [
    "# Assuming 'fruit_type' is the target variable and you want to predict it based on other features\n",
    "\n",
    "X = data_no_outliers.drop('fruit_type', axis=1)\n",
    "y = data_no_outliers['fruit_type']"
   ]
  },
  {
   "cell_type": "markdown",
   "id": "d6f81fdc",
   "metadata": {},
   "source": [
    "## Label Encoding the target variable"
   ]
  },
  {
   "cell_type": "code",
   "execution_count": 7,
   "id": "1bf13a12",
   "metadata": {
    "scrolled": true
   },
   "outputs": [
    {
     "data": {
      "text/html": [
       "<div>\n",
       "<style scoped>\n",
       "    .dataframe tbody tr th:only-of-type {\n",
       "        vertical-align: middle;\n",
       "    }\n",
       "\n",
       "    .dataframe tbody tr th {\n",
       "        vertical-align: top;\n",
       "    }\n",
       "\n",
       "    .dataframe thead th {\n",
       "        text-align: right;\n",
       "    }\n",
       "</style>\n",
       "<table border=\"1\" class=\"dataframe\">\n",
       "  <thead>\n",
       "    <tr style=\"text-align: right;\">\n",
       "      <th></th>\n",
       "      <th>fruit_type</th>\n",
       "      <th>color</th>\n",
       "      <th>size</th>\n",
       "      <th>weight</th>\n",
       "      <th>fruit_type_label</th>\n",
       "    </tr>\n",
       "  </thead>\n",
       "  <tbody>\n",
       "    <tr>\n",
       "      <th>0</th>\n",
       "      <td>grape</td>\n",
       "      <td>Yellow</td>\n",
       "      <td>Tiny</td>\n",
       "      <td>8.303385</td>\n",
       "      <td>grape</td>\n",
       "    </tr>\n",
       "    <tr>\n",
       "      <th>1</th>\n",
       "      <td>apple</td>\n",
       "      <td>Pink</td>\n",
       "      <td>Largee</td>\n",
       "      <td>80.976370</td>\n",
       "      <td>apple</td>\n",
       "    </tr>\n",
       "    <tr>\n",
       "      <th>2</th>\n",
       "      <td>banana</td>\n",
       "      <td>Pale Yellow</td>\n",
       "      <td>Large</td>\n",
       "      <td>74.615192</td>\n",
       "      <td>banana</td>\n",
       "    </tr>\n",
       "    <tr>\n",
       "      <th>3</th>\n",
       "      <td>grape</td>\n",
       "      <td>Red</td>\n",
       "      <td>Tiny</td>\n",
       "      <td>6.924070</td>\n",
       "      <td>grape</td>\n",
       "    </tr>\n",
       "    <tr>\n",
       "      <th>4</th>\n",
       "      <td>banana</td>\n",
       "      <td>Creamy White</td>\n",
       "      <td>Largee</td>\n",
       "      <td>82.002542</td>\n",
       "      <td>banana</td>\n",
       "    </tr>\n",
       "  </tbody>\n",
       "</table>\n",
       "</div>"
      ],
      "text/plain": [
       "  fruit_type         color    size     weight fruit_type_label\n",
       "0      grape        Yellow    Tiny   8.303385            grape\n",
       "1      apple          Pink  Largee  80.976370            apple\n",
       "2     banana   Pale Yellow   Large  74.615192           banana\n",
       "3      grape           Red    Tiny   6.924070            grape\n",
       "4     banana  Creamy White  Largee  82.002542           banana"
      ]
     },
     "execution_count": 7,
     "metadata": {},
     "output_type": "execute_result"
    }
   ],
   "source": [
    "# Read the Excel file\n",
    "fruits = pd.read_excel('fruit_data.xlsx', index_col=0)\n",
    "\n",
    "# Add new column for label encoding\n",
    "fruits['fruit_type_label'] = fruits['fruit_type']\n",
    "\n",
    "# Display the first few rows\n",
    "fruits.head()"
   ]
  },
  {
   "cell_type": "code",
   "execution_count": 8,
   "id": "c5ade8a5",
   "metadata": {},
   "outputs": [
    {
     "data": {
      "text/html": [
       "<div>\n",
       "<style scoped>\n",
       "    .dataframe tbody tr th:only-of-type {\n",
       "        vertical-align: middle;\n",
       "    }\n",
       "\n",
       "    .dataframe tbody tr th {\n",
       "        vertical-align: top;\n",
       "    }\n",
       "\n",
       "    .dataframe thead th {\n",
       "        text-align: right;\n",
       "    }\n",
       "</style>\n",
       "<table border=\"1\" class=\"dataframe\">\n",
       "  <thead>\n",
       "    <tr style=\"text-align: right;\">\n",
       "      <th></th>\n",
       "      <th>fruit_type</th>\n",
       "      <th>color</th>\n",
       "      <th>size</th>\n",
       "      <th>weight</th>\n",
       "      <th>fruit_type_label</th>\n",
       "    </tr>\n",
       "  </thead>\n",
       "  <tbody>\n",
       "    <tr>\n",
       "      <th>0</th>\n",
       "      <td>grape</td>\n",
       "      <td>Yellow</td>\n",
       "      <td>Tiny</td>\n",
       "      <td>8.303385</td>\n",
       "      <td>2</td>\n",
       "    </tr>\n",
       "    <tr>\n",
       "      <th>1</th>\n",
       "      <td>apple</td>\n",
       "      <td>Pink</td>\n",
       "      <td>Largee</td>\n",
       "      <td>80.976370</td>\n",
       "      <td>0</td>\n",
       "    </tr>\n",
       "    <tr>\n",
       "      <th>2</th>\n",
       "      <td>banana</td>\n",
       "      <td>Pale Yellow</td>\n",
       "      <td>Large</td>\n",
       "      <td>74.615192</td>\n",
       "      <td>1</td>\n",
       "    </tr>\n",
       "    <tr>\n",
       "      <th>3</th>\n",
       "      <td>grape</td>\n",
       "      <td>Red</td>\n",
       "      <td>Tiny</td>\n",
       "      <td>6.924070</td>\n",
       "      <td>2</td>\n",
       "    </tr>\n",
       "    <tr>\n",
       "      <th>4</th>\n",
       "      <td>banana</td>\n",
       "      <td>Creamy White</td>\n",
       "      <td>Largee</td>\n",
       "      <td>82.002542</td>\n",
       "      <td>1</td>\n",
       "    </tr>\n",
       "  </tbody>\n",
       "</table>\n",
       "</div>"
      ],
      "text/plain": [
       "  fruit_type         color    size     weight  fruit_type_label\n",
       "0      grape        Yellow    Tiny   8.303385                 2\n",
       "1      apple          Pink  Largee  80.976370                 0\n",
       "2     banana   Pale Yellow   Large  74.615192                 1\n",
       "3      grape           Red    Tiny   6.924070                 2\n",
       "4     banana  Creamy White  Largee  82.002542                 1"
      ]
     },
     "execution_count": 8,
     "metadata": {},
     "output_type": "execute_result"
    }
   ],
   "source": [
    "#Label encoding for Target variable\n",
    "\n",
    "from sklearn.preprocessing import LabelEncoder\n",
    "\n",
    "encoder=LabelEncoder()\n",
    "fruits['fruit_type_label']=encoder.fit_transform(fruits['fruit_type_label'])\n",
    "fruits.head()"
   ]
  },
  {
   "cell_type": "markdown",
   "id": "ebb76f0b",
   "metadata": {},
   "source": [
    "# One-hot encoding for input categorial variable"
   ]
  },
  {
   "cell_type": "code",
   "execution_count": 9,
   "id": "9378c8e0",
   "metadata": {},
   "outputs": [
    {
     "name": "stdout",
     "output_type": "stream",
     "text": [
      "Data shape after one-hot encoding: (198, 15)\n"
     ]
    },
    {
     "data": {
      "text/html": [
       "<div>\n",
       "<style scoped>\n",
       "    .dataframe tbody tr th:only-of-type {\n",
       "        vertical-align: middle;\n",
       "    }\n",
       "\n",
       "    .dataframe tbody tr th {\n",
       "        vertical-align: top;\n",
       "    }\n",
       "\n",
       "    .dataframe thead th {\n",
       "        text-align: right;\n",
       "    }\n",
       "</style>\n",
       "<table border=\"1\" class=\"dataframe\">\n",
       "  <thead>\n",
       "    <tr style=\"text-align: right;\">\n",
       "      <th></th>\n",
       "      <th>weight</th>\n",
       "      <th>color_Black</th>\n",
       "      <th>color_Creamy White</th>\n",
       "      <th>color_Green</th>\n",
       "      <th>color_Pale Yellow</th>\n",
       "      <th>color_Pink</th>\n",
       "      <th>color_Purple</th>\n",
       "      <th>color_Red</th>\n",
       "      <th>color_Yellow</th>\n",
       "      <th>color_Yellow1</th>\n",
       "      <th>size_Large</th>\n",
       "      <th>size_Largee</th>\n",
       "      <th>size_Medium</th>\n",
       "      <th>size_Small</th>\n",
       "      <th>size_Tiny</th>\n",
       "    </tr>\n",
       "  </thead>\n",
       "  <tbody>\n",
       "    <tr>\n",
       "      <th>0</th>\n",
       "      <td>8</td>\n",
       "      <td>0</td>\n",
       "      <td>0</td>\n",
       "      <td>0</td>\n",
       "      <td>0</td>\n",
       "      <td>0</td>\n",
       "      <td>0</td>\n",
       "      <td>0</td>\n",
       "      <td>1</td>\n",
       "      <td>0</td>\n",
       "      <td>0</td>\n",
       "      <td>0</td>\n",
       "      <td>0</td>\n",
       "      <td>0</td>\n",
       "      <td>1</td>\n",
       "    </tr>\n",
       "    <tr>\n",
       "      <th>1</th>\n",
       "      <td>80</td>\n",
       "      <td>0</td>\n",
       "      <td>0</td>\n",
       "      <td>0</td>\n",
       "      <td>0</td>\n",
       "      <td>1</td>\n",
       "      <td>0</td>\n",
       "      <td>0</td>\n",
       "      <td>0</td>\n",
       "      <td>0</td>\n",
       "      <td>0</td>\n",
       "      <td>1</td>\n",
       "      <td>0</td>\n",
       "      <td>0</td>\n",
       "      <td>0</td>\n",
       "    </tr>\n",
       "    <tr>\n",
       "      <th>2</th>\n",
       "      <td>74</td>\n",
       "      <td>0</td>\n",
       "      <td>0</td>\n",
       "      <td>0</td>\n",
       "      <td>1</td>\n",
       "      <td>0</td>\n",
       "      <td>0</td>\n",
       "      <td>0</td>\n",
       "      <td>0</td>\n",
       "      <td>0</td>\n",
       "      <td>1</td>\n",
       "      <td>0</td>\n",
       "      <td>0</td>\n",
       "      <td>0</td>\n",
       "      <td>0</td>\n",
       "    </tr>\n",
       "    <tr>\n",
       "      <th>3</th>\n",
       "      <td>6</td>\n",
       "      <td>0</td>\n",
       "      <td>0</td>\n",
       "      <td>0</td>\n",
       "      <td>0</td>\n",
       "      <td>0</td>\n",
       "      <td>0</td>\n",
       "      <td>1</td>\n",
       "      <td>0</td>\n",
       "      <td>0</td>\n",
       "      <td>0</td>\n",
       "      <td>0</td>\n",
       "      <td>0</td>\n",
       "      <td>0</td>\n",
       "      <td>1</td>\n",
       "    </tr>\n",
       "    <tr>\n",
       "      <th>4</th>\n",
       "      <td>82</td>\n",
       "      <td>0</td>\n",
       "      <td>1</td>\n",
       "      <td>0</td>\n",
       "      <td>0</td>\n",
       "      <td>0</td>\n",
       "      <td>0</td>\n",
       "      <td>0</td>\n",
       "      <td>0</td>\n",
       "      <td>0</td>\n",
       "      <td>0</td>\n",
       "      <td>1</td>\n",
       "      <td>0</td>\n",
       "      <td>0</td>\n",
       "      <td>0</td>\n",
       "    </tr>\n",
       "    <tr>\n",
       "      <th>...</th>\n",
       "      <td>...</td>\n",
       "      <td>...</td>\n",
       "      <td>...</td>\n",
       "      <td>...</td>\n",
       "      <td>...</td>\n",
       "      <td>...</td>\n",
       "      <td>...</td>\n",
       "      <td>...</td>\n",
       "      <td>...</td>\n",
       "      <td>...</td>\n",
       "      <td>...</td>\n",
       "      <td>...</td>\n",
       "      <td>...</td>\n",
       "      <td>...</td>\n",
       "      <td>...</td>\n",
       "    </tr>\n",
       "    <tr>\n",
       "      <th>195</th>\n",
       "      <td>9</td>\n",
       "      <td>0</td>\n",
       "      <td>0</td>\n",
       "      <td>0</td>\n",
       "      <td>0</td>\n",
       "      <td>0</td>\n",
       "      <td>1</td>\n",
       "      <td>0</td>\n",
       "      <td>0</td>\n",
       "      <td>0</td>\n",
       "      <td>0</td>\n",
       "      <td>0</td>\n",
       "      <td>0</td>\n",
       "      <td>1</td>\n",
       "      <td>0</td>\n",
       "    </tr>\n",
       "    <tr>\n",
       "      <th>196</th>\n",
       "      <td>39</td>\n",
       "      <td>0</td>\n",
       "      <td>0</td>\n",
       "      <td>0</td>\n",
       "      <td>1</td>\n",
       "      <td>0</td>\n",
       "      <td>0</td>\n",
       "      <td>0</td>\n",
       "      <td>0</td>\n",
       "      <td>0</td>\n",
       "      <td>1</td>\n",
       "      <td>0</td>\n",
       "      <td>0</td>\n",
       "      <td>0</td>\n",
       "      <td>0</td>\n",
       "    </tr>\n",
       "    <tr>\n",
       "      <th>197</th>\n",
       "      <td>7</td>\n",
       "      <td>0</td>\n",
       "      <td>0</td>\n",
       "      <td>0</td>\n",
       "      <td>0</td>\n",
       "      <td>0</td>\n",
       "      <td>0</td>\n",
       "      <td>1</td>\n",
       "      <td>0</td>\n",
       "      <td>0</td>\n",
       "      <td>0</td>\n",
       "      <td>0</td>\n",
       "      <td>0</td>\n",
       "      <td>1</td>\n",
       "      <td>0</td>\n",
       "    </tr>\n",
       "    <tr>\n",
       "      <th>198</th>\n",
       "      <td>4</td>\n",
       "      <td>0</td>\n",
       "      <td>0</td>\n",
       "      <td>0</td>\n",
       "      <td>0</td>\n",
       "      <td>0</td>\n",
       "      <td>0</td>\n",
       "      <td>1</td>\n",
       "      <td>0</td>\n",
       "      <td>0</td>\n",
       "      <td>0</td>\n",
       "      <td>0</td>\n",
       "      <td>1</td>\n",
       "      <td>0</td>\n",
       "      <td>0</td>\n",
       "    </tr>\n",
       "    <tr>\n",
       "      <th>199</th>\n",
       "      <td>5</td>\n",
       "      <td>0</td>\n",
       "      <td>0</td>\n",
       "      <td>0</td>\n",
       "      <td>0</td>\n",
       "      <td>0</td>\n",
       "      <td>0</td>\n",
       "      <td>1</td>\n",
       "      <td>0</td>\n",
       "      <td>0</td>\n",
       "      <td>0</td>\n",
       "      <td>0</td>\n",
       "      <td>1</td>\n",
       "      <td>0</td>\n",
       "      <td>0</td>\n",
       "    </tr>\n",
       "  </tbody>\n",
       "</table>\n",
       "<p>198 rows × 15 columns</p>\n",
       "</div>"
      ],
      "text/plain": [
       "     weight  color_Black  color_Creamy White  color_Green  color_Pale Yellow  \\\n",
       "0         8            0                   0            0                  0   \n",
       "1        80            0                   0            0                  0   \n",
       "2        74            0                   0            0                  1   \n",
       "3         6            0                   0            0                  0   \n",
       "4        82            0                   1            0                  0   \n",
       "..      ...          ...                 ...          ...                ...   \n",
       "195       9            0                   0            0                  0   \n",
       "196      39            0                   0            0                  1   \n",
       "197       7            0                   0            0                  0   \n",
       "198       4            0                   0            0                  0   \n",
       "199       5            0                   0            0                  0   \n",
       "\n",
       "     color_Pink  color_Purple  color_Red  color_Yellow  color_Yellow1  \\\n",
       "0             0             0          0             1              0   \n",
       "1             1             0          0             0              0   \n",
       "2             0             0          0             0              0   \n",
       "3             0             0          1             0              0   \n",
       "4             0             0          0             0              0   \n",
       "..          ...           ...        ...           ...            ...   \n",
       "195           0             1          0             0              0   \n",
       "196           0             0          0             0              0   \n",
       "197           0             0          1             0              0   \n",
       "198           0             0          1             0              0   \n",
       "199           0             0          1             0              0   \n",
       "\n",
       "     size_Large  size_Largee  size_Medium  size_Small  size_Tiny  \n",
       "0             0            0            0           0          1  \n",
       "1             0            1            0           0          0  \n",
       "2             1            0            0           0          0  \n",
       "3             0            0            0           0          1  \n",
       "4             0            1            0           0          0  \n",
       "..          ...          ...          ...         ...        ...  \n",
       "195           0            0            0           1          0  \n",
       "196           1            0            0           0          0  \n",
       "197           0            0            0           1          0  \n",
       "198           0            0            1           0          0  \n",
       "199           0            0            1           0          0  \n",
       "\n",
       "[198 rows x 15 columns]"
      ]
     },
     "execution_count": 9,
     "metadata": {},
     "output_type": "execute_result"
    }
   ],
   "source": [
    "#One-hot encoding for input categorial variable\n",
    "\n",
    "categorical_cols = ['color', 'size']  # List of categorical columns\n",
    "df_encoded = pd.get_dummies(X, columns=['color', 'size'], dtype='int')\n",
    "print(\"Data shape after one-hot encoding:\", df_encoded.shape)\n",
    "\n",
    "df_encoded\n"
   ]
  },
  {
   "cell_type": "code",
   "execution_count": 10,
   "id": "0c8ddc7f",
   "metadata": {},
   "outputs": [
    {
     "name": "stdout",
     "output_type": "stream",
     "text": [
      "['grape' 'apple' 'banana']\n",
      "fruit_type\n",
      "apple     70\n",
      "banana    64\n",
      "grape     66\n",
      "dtype: int64\n"
     ]
    }
   ],
   "source": [
    "# To get a sense of the diversity of data in the fruit_type column\n",
    "\n",
    "print(fruits['fruit_type'].unique())\n",
    "\n",
    "print(fruits.groupby('fruit_type').size())"
   ]
  },
  {
   "cell_type": "markdown",
   "id": "22026f2f",
   "metadata": {},
   "source": [
    "## Plotting the data"
   ]
  },
  {
   "cell_type": "code",
   "execution_count": 11,
   "id": "dc39d548",
   "metadata": {},
   "outputs": [
    {
     "data": {
      "image/png": "[encoded data removed]",
      "text/plain": [
       "<Figure size 640x480 with 1 Axes>"
      ]
     },
     "metadata": {},
     "output_type": "display_data"
    }
   ],
   "source": [
    "# To get a sense of the diversity of data in the color column (Data Imbalance Check)\n",
    "\n",
    "import seaborn as sns\n",
    "sns.countplot(fruits['fruit_type'],label=\"Count\")\n",
    "plt.show()"
   ]
  },
  {
   "cell_type": "code",
   "execution_count": 12,
   "id": "87b16d00",
   "metadata": {},
   "outputs": [
    {
     "data": {
      "image/png": "[encoded data removed]",
      "text/plain": [
       "<Figure size 900x900 with 4 Axes>"
      ]
     },
     "metadata": {},
     "output_type": "display_data"
    }
   ],
   "source": [
    "# To see the distribution of numerical data and outliers\n",
    "\n",
    "fruits.drop('fruit_type_label', axis=1).plot(kind='box', subplots=True, layout=(2,2), sharex=False, sharey=False, figsize=(9,9), \n",
    "                                        title='Box Plot for each input variable')\n",
    "plt.savefig('fruits_box')\n",
    "plt.show()"
   ]
  },
  {
   "cell_type": "code",
   "execution_count": 13,
   "id": "602b99c0",
   "metadata": {
    "scrolled": true
   },
   "outputs": [
    {
     "data": {
      "image/png": "[encoded data removed]",
      "text/plain": [
       "<Figure size 900x900 with 1 Axes>"
      ]
     },
     "metadata": {},
     "output_type": "display_data"
    }
   ],
   "source": [
    "# To see the distribution of numerical data\n",
    "\n",
    "# Plot histograms for numeric columns\n",
    "fruits.drop('fruit_type_label', axis=1).hist(bins=30, figsize=(9, 9))\n",
    "\n",
    "# Set the super title for the plots\n",
    "plt.suptitle(\"Histogram for each numeric input variable\")\n",
    "\n",
    "# Save the plot to a file\n",
    "plt.savefig('fruits_hist.png')\n",
    "\n",
    "# Display the plot\n",
    "plt.show()\n"
   ]
  },
  {
   "cell_type": "markdown",
   "id": "5d877db9",
   "metadata": {},
   "source": [
    "## Step 3: Modeling and Analysis"
   ]
  },
  {
   "cell_type": "markdown",
   "id": "b5e69b40",
   "metadata": {},
   "source": [
    "## Logistic Regression"
   ]
  },
  {
   "cell_type": "code",
   "execution_count": 14,
   "id": "7ef8c2d2",
   "metadata": {},
   "outputs": [],
   "source": [
    "# Use logistic regression to solve this\n",
    "\n",
    "from sklearn.linear_model import LogisticRegression\n",
    "from sklearn.preprocessing import StandardScaler"
   ]
  },
  {
   "cell_type": "code",
   "execution_count": 15,
   "id": "ff33e1ee",
   "metadata": {},
   "outputs": [],
   "source": [
    "# Scaling because if features are on different scales, it can lead to biased or inaccurate model results\n",
    "\n",
    "scaler = StandardScaler()\n",
    "X_scaled = scaler.fit_transform(df_encoded)"
   ]
  },
  {
   "cell_type": "code",
   "execution_count": 16,
   "id": "db6ea489",
   "metadata": {},
   "outputs": [
    {
     "name": "stdout",
     "output_type": "stream",
     "text": [
      "Logistic Regression Test Accuracy: 0.78\n",
      "Logistic Regression F1-score: 0.7777011494252873\n"
     ]
    }
   ],
   "source": [
    "# Logistic Regression\n",
    "\n",
    "X_train, X_test, y_train, y_test = train_test_split(X_scaled, y, test_size=0.25, random_state=42)\n",
    "\n",
    "logreg = LogisticRegression()\n",
    "logreg.fit(X_train, y_train)\n",
    "\n",
    "# Evaluation\n",
    "\n",
    "accuracy = logreg.score(X_test, y_test)\n",
    "print(\"Logistic Regression Test Accuracy:\", accuracy)\n",
    "\n",
    "# Evaluation \n",
    "\n",
    "from sklearn.metrics import f1_score\n",
    "y_pred = logreg.predict(X_test)\n",
    "f1 = f1_score(y_test, y_pred, average='weighted')  # Use 'weighted' for multiclass\n",
    "print(\"Logistic Regression F1-score:\", f1)"
   ]
  },
  {
   "cell_type": "markdown",
   "id": "a4f2453c",
   "metadata": {},
   "source": [
    "## Decision Tree"
   ]
  },
  {
   "cell_type": "code",
   "execution_count": 17,
   "id": "bd7fff7b",
   "metadata": {},
   "outputs": [
    {
     "name": "stdout",
     "output_type": "stream",
     "text": [
      "Best hyperparameters: {'criterion': 'entropy', 'max_depth': None, 'min_samples_leaf': 1, 'min_samples_split': 10}\n",
      "Test accuracy: 0.82\n",
      "Decision Tree score: 0.82\n"
     ]
    }
   ],
   "source": [
    "# Define the model\n",
    "\n",
    "model = DecisionTreeClassifier()\n",
    "\n",
    "# Define the hyperparameter grid to search\n",
    "\n",
    "param_grid = {\n",
    "    'criterion': ['gini', 'entropy'],\n",
    "    'max_depth': [None, 5, 10, 15],\n",
    "    'min_samples_split': [2, 5, 10],\n",
    "    'min_samples_leaf': [1, 2, 4]\n",
    "}\n",
    "\n",
    "# Perform grid search with cross-validation\n",
    "\n",
    "grid_search = GridSearchCV(model, param_grid, cv=5)\n",
    "grid_search.fit(X_train, y_train)\n",
    "\n",
    "# Print the best hyperparameters\n",
    "\n",
    "print(\"Best hyperparameters:\", grid_search.best_params_)\n",
    "\n",
    "\n",
    "# Get the best model\n",
    "\n",
    "best_model = grid_search.best_estimator_\n",
    "\n",
    "# Evaluate the best model on the test set\n",
    "\n",
    "accuracy = best_model.score(X_test, y_test)\n",
    "print(\"Test accuracy:\", accuracy)\n",
    "\n",
    "y_pred = best_model.predict(X_test)\n",
    "f1 = f1_score(y_test, y_pred, average='weighted')  # Use 'weighted' for multiclass\n",
    "print(\"Decision Tree score:\", f1)"
   ]
  }
 ],
 "metadata": {
  "kernelspec": {
   "display_name": "Python 3 (ipykernel)",
   "language": "python",
   "name": "python3"
  },
  "language_info": {
   "codemirror_mode": {
    "name": "ipython",
    "version": 3
   },
   "file_extension": ".py",
   "mimetype": "text/x-python",
   "name": "python",
   "nbconvert_exporter": "python",
   "pygments_lexer": "ipython3",
   "version": "3.10.2"
  }
 },
 "nbformat": 4,
 "nbformat_minor": 5
}
